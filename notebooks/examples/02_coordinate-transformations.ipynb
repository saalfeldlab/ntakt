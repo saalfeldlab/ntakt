{
 "cells": [
  {
   "cell_type": "markdown",
   "metadata": {},
   "source": [
    "# ntakt coordinate transforms\n",
    "ImgLib2 exposes a powerful API to transform the coordinates of an image (or other data structures with coordinates). ntakt adds extensions to facilitate easy access to this API."
   ]
  },
  {
   "cell_type": "code",
   "execution_count": 1,
   "metadata": {},
   "outputs": [
    {
     "data": {
      "text/html": [
       "   <div id=\"52XtF3\"></div>\n",
       "   <script type=\"text/javascript\" data-lets-plot-script=\"library\">\n",
       "       if(!window.letsPlotCallQueue) {\n",
       "           window.letsPlotCallQueue = [];\n",
       "       }; \n",
       "       window.letsPlotCall = function(f) {\n",
       "           window.letsPlotCallQueue.push(f);\n",
       "       };\n",
       "       (function() {\n",
       "           var script = document.createElement(\"script\");\n",
       "           script.type = \"text/javascript\";\n",
       "           script.src = \"https://cdn.jsdelivr.net/gh/JetBrains/lets-plot@v2.2.1/js-package/distr/lets-plot.min.js\";\n",
       "           script.onload = function() {\n",
       "               window.letsPlotCall = function(f) {f();};\n",
       "               window.letsPlotCallQueue.forEach(function(f) {f();});\n",
       "               window.letsPlotCallQueue = [];\n",
       "               \n",
       "               \n",
       "           };\n",
       "           script.onerror = function(event) {\n",
       "               window.letsPlotCall = function(f) {};\n",
       "               window.letsPlotCallQueue = [];\n",
       "               var div = document.createElement(\"div\");\n",
       "               div.style.color = 'darkred';\n",
       "               div.textContent = 'Error loading Lets-Plot JS';\n",
       "               document.getElementById(\"52XtF3\").appendChild(div);\n",
       "           };\n",
       "           var e = document.getElementById(\"52XtF3\");\n",
       "           e.appendChild(script);\n",
       "       })();\n",
       "   </script>"
      ]
     },
     "metadata": {},
     "output_type": "display_data"
    }
   ],
   "source": [
    "// set up dependencies\n",
    "// use local maven repository; not yet deployed to remote maven repositories.\n",
    "@file:Repository(\"*mavenLocal\")\n",
    "@file:Repository(\"https://maven.scijava.org/content/groups/public\")\n",
    "\n",
    "// uncomment to search in your local maven repo\n",
    "// requires installation into local maven repository (./gradlew build publishToMavenLocal)\n",
    "@file:DependsOn(\"org.ntakt:ntakt:0.1.5-SNAPSHOT\")\n",
    "\n",
    "// uncomment to search in jitpack\n",
    "// @file:DependsOn(\"org.ntakt:ntakt:main-SNAPSHOT\")\n",
    "\n",
    "@file:DependsOn(\"sc.fiji:bigdataviewer-vistools:1.0.0-beta-21\")\n",
    "%use lets-plot"
   ]
  },
  {
   "cell_type": "code",
   "execution_count": 2,
   "metadata": {},
   "outputs": [],
   "source": [
    "import bdv.util.BdvFunctions\n",
    "import bdv.util.BdvOptions\n",
    "import kotlin.random.Random\n",
    "import net.imglib2.realtransform.AffineTransform2D\n",
    "import org.ntakt.*"
   ]
  },
  {
   "cell_type": "code",
   "execution_count": 3,
   "metadata": {},
   "outputs": [
    {
     "name": "stdout",
     "output_type": "stream",
     "text": [
      "[0.0, 0.0] [64.64466094067261, 326.7766952966369]\n",
      "[199.0, 0.0] [-76.06958851545035, 186.06244584051393]\n",
      "[0.0, 299.0] [276.06958851545033, 115.3517677218592]\n",
      "[199.0, 299.0] [135.35533905932738, -25.36248173426378]\n"
     ]
    },
    {
     "data": {
      "text/plain": [
       "null"
      ]
     },
     "execution_count": 3,
     "metadata": {},
     "output_type": "execute_result"
    }
   ],
   "source": [
    "val rng = Random(100L)\n",
    "val img = ntakt.doubles(200, 300) { idx -> idx.toDouble() + 100 * rng.nextDouble() }\n",
    "val rotation = AffineTransform2D().also {\n",
    "    it.translate(-100.0, -150.0)\n",
    "    it.rotate(-3 * PI / 4.0)\n",
    "    it.translate(100.0, 150.0)\n",
    "}\n",
    "val transformedBoundingBox = img.transformBoundingBox(rotation).smallestsContaining\n",
    "val rotated = img.extendZero().interpolatedNLinear.transform(rotation)\n",
    "val bdv = img.show(\"img\", BdvOptions.options().is2D())\n",
    "rotated.show(\"rotated\", bdv=bdv, interval=transformedBoundingBox)\n",
    "null"
   ]
  }
 ],
 "metadata": {
  "kernelspec": {
   "display_name": "Kotlin",
   "language": "kotlin",
   "name": "kotlin"
  },
  "language_info": {
   "codemirror_mode": "text/x-kotlin",
   "file_extension": ".kt",
   "mimetype": "text/x-kotlin",
   "name": "kotlin",
   "nbconvert_exporter": "",
   "pygments_lexer": "kotlin",
   "version": "1.7.0-dev-1825"
  }
 },
 "nbformat": 4,
 "nbformat_minor": 4
}
