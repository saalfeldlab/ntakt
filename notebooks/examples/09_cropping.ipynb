{
 "cells": [
  {
   "cell_type": "markdown",
   "metadata": {},
   "source": [
    "# Cropping\n",
    "\n",
    "Finite (or smaller) intervals can be cropped out of infinte `RandomAccessible` (or finite `RandomAccessibleInterval`). This operation is similar to slicing but does not support subsampling (\"step\"). The `[]` extension operator is overloaded for convenient cropping for (all `Int` mirrors of`Long` overloads are left out for brevity):\n",
    " 1. `interval: Interval`:\n",
    "    Crop `RandomAccessible` or `RandomAccessibleinterval` to interval\n",
    " 2. `min: LongArray`, `max: LongArray`:\n",
    "    Create interval from `min` and `max` (inclusive) and delegate to (1)\n",
    " 3. `vararg minMax: ClosedRange<Long>`:\n",
    "     Each element of `minMax` defines the `min` and `max` for one dimension, delegate to (1)\n",
    " 4. `vararg minMax: Pair<Long, Long>`:\n",
    "     Like (3)\n",
    " \n",
    " `RealRandomAccessible` and `RealRandomAccessibleRealInterval` have similar extension operators for cropping with `Float`/`Double` instead of `Int`/`Float`.\n",
    " \n",
    " **Note**: Cropping always considers `min` (inclusive) and `max` (inclusive). This is an important difference to slicing on `RandomAccessibleInterval`, that does not consider `min` and `max` and interprets indices to be in the range from `0` (inclusive) to `dimension` (exclusive)."
   ]
  },
  {
   "cell_type": "code",
   "execution_count": 1,
   "metadata": {},
   "outputs": [],
   "source": [
    "// set up dependencies\n",
    "// use local maven repository; not yet deployed to remote maven repositories.\n",
    "@file:Repository(\"*mavenLocal\")\n",
    "@file:Repository(\"https://maven.scijava.org/content/groups/public\")\n",
    "\n",
    "// uncomment to search in your local maven repo\n",
    "// requires installation into local maven repository (./gradlew build publishToMavenLocal)\n",
    "@file:DependsOn(\"org.ntakt:ntakt:0.1.5-SNAPSHOT\")\n",
    "\n",
    "// uncomment to search in jitpack\n",
    "// @file:DependsOn(\"org.ntakt:ntakt:main-SNAPSHOT\")"
   ]
  },
  {
   "cell_type": "code",
   "execution_count": 2,
   "metadata": {},
   "outputs": [],
   "source": [
    "import net.imglib2.FinalInterval\n",
    "import net.imglib2.RandomAccessibleInterval as RAI\n",
    "import org.ntakt.*"
   ]
  },
  {
   "cell_type": "code",
   "execution_count": 3,
   "metadata": {},
   "outputs": [
    {
     "name": "stdout",
     "output_type": "stream",
     "text": [
      "ArrayImg [5x4]\n",
      "IntervalView [(0) -- (4) = 5]: [0, 1, 2, 3, 4]\n",
      "IntervalView [(0) -- (4) = 5]: [5, 6, 7, 8, 9]\n",
      "IntervalView [(0) -- (4) = 5]: [10, 11, 12, 13, 14]\n",
      "IntervalView [(0) -- (4) = 5]: [15, 16, 17, 18, 19]\n",
      "\n",
      "IntervalView [(0, 0) -- (2, 1) = 3x2]\n",
      "IntervalView [(0) -- (2) = 3]: [0, 1, 2]\n",
      "IntervalView [(0) -- (2) = 3]: [5, 6, 7]\n",
      "\n",
      "IntervalView [(2, 3) -- (2, 3) = 1x1]\n",
      "IntervalView [(2) -- (2) = 1]: [17]\n",
      "\n",
      "IntervalView [(2, 3) -- (2, 3) = 1x1]\n",
      "IntervalView [(2) -- (2) = 1]: [17]\n",
      "\n",
      "IntervalView [(1, 2) -- (4, 3) = 4x2]\n",
      "IntervalView [(1) -- (4) = 4]: [11, 12, 13, 14]\n",
      "IntervalView [(1) -- (4) = 4]: [16, 17, 18, 19]\n",
      "\n",
      "IntervalView [(1, 2) -- (4, 3) = 4x2]\n",
      "IntervalView [(1) -- (4) = 4]: [11, 12, 13, 14]\n",
      "IntervalView [(1) -- (4) = 4]: [16, 17, 18, 19]\n",
      "\n",
      "IntervalView [(1, 2) -- (4, 3) = 4x2]\n",
      "IntervalView [(1) -- (4) = 4]: [11, 12, 13, 14]\n",
      "IntervalView [(1) -- (4) = 4]: [16, 17, 18, 19]\n",
      "\n",
      "IntervalView [(1, 2) -- (4, 3) = 4x2]\n",
      "IntervalView [(1) -- (4) = 4]: [11, 12, 13, 14]\n",
      "IntervalView [(1) -- (4) = 4]: [16, 17, 18, 19]\n"
     ]
    }
   ],
   "source": [
    "fun <T> RAI<T>.show(addNewLine: Boolean = true) {\n",
    "    require(nDim == 2)\n",
    "    println(this)\n",
    "    hyperSlicesList(1).forEach { println(it.flatStringRepresentation) }\n",
    "    if (addNewLine) println()\n",
    "}\n",
    "\n",
    "val img = ntakt.ints(5, 4) { it }\n",
    "img.show()\n",
    "img[FinalInterval(3, 2)].show()\n",
    "img[FinalInterval(longArrayOf(2, 3), longArrayOf(2, 3))].show()\n",
    "img[intArrayOf(2, 3), intArrayOf(2, 3)].show()\n",
    "img[longArrayOf(1, 2) .. longArrayOf(4, 3)].show()\n",
    "img[1L to 4L, 2L to 3L].show()\n",
    "img[1 to 4, 2 to 3].show()\n",
    "img[1..4, 2..3].show(false)"
   ]
  }
 ],
 "metadata": {
  "kernelspec": {
   "display_name": "Kotlin",
   "language": "kotlin",
   "name": "kotlin"
  },
  "language_info": {
   "codemirror_mode": "text/x-kotlin",
   "file_extension": ".kt",
   "mimetype": "text/x-kotlin",
   "name": "kotlin",
   "nbconvert_exporter": "",
   "pygments_lexer": "kotlin",
   "version": "1.7.0-dev-1825"
  }
 },
 "nbformat": 4,
 "nbformat_minor": 4
}
