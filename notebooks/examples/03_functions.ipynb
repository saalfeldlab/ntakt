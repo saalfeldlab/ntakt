{
 "cells": [
  {
   "cell_type": "markdown",
   "metadata": {},
   "source": [
    "# ntakt Functions\n",
    "ImgLib2 offers an API to generate virtual functions through the `FunctionRealRandomAccessible` that are evaluated at real locations on demand."
   ]
  },
  {
   "cell_type": "code",
   "execution_count": 1,
   "metadata": {},
   "outputs": [
    {
     "data": {
      "text/html": [
       "   <div id=\"2gt3NZ\"></div>\n",
       "   <script type=\"text/javascript\" data-lets-plot-script=\"library\">\n",
       "       if(!window.letsPlotCallQueue) {\n",
       "           window.letsPlotCallQueue = [];\n",
       "       }; \n",
       "       window.letsPlotCall = function(f) {\n",
       "           window.letsPlotCallQueue.push(f);\n",
       "       };\n",
       "       (function() {\n",
       "           var script = document.createElement(\"script\");\n",
       "           script.type = \"text/javascript\";\n",
       "           script.src = \"https://cdn.jsdelivr.net/gh/JetBrains/lets-plot@v2.2.1/js-package/distr/lets-plot.min.js\";\n",
       "           script.onload = function() {\n",
       "               window.letsPlotCall = function(f) {f();};\n",
       "               window.letsPlotCallQueue.forEach(function(f) {f();});\n",
       "               window.letsPlotCallQueue = [];\n",
       "               \n",
       "               \n",
       "           };\n",
       "           script.onerror = function(event) {\n",
       "               window.letsPlotCall = function(f) {};\n",
       "               window.letsPlotCallQueue = [];\n",
       "               var div = document.createElement(\"div\");\n",
       "               div.style.color = 'darkred';\n",
       "               div.textContent = 'Error loading Lets-Plot JS';\n",
       "               document.getElementById(\"2gt3NZ\").appendChild(div);\n",
       "           };\n",
       "           var e = document.getElementById(\"2gt3NZ\");\n",
       "           e.appendChild(script);\n",
       "       })();\n",
       "   </script>"
      ]
     },
     "metadata": {},
     "output_type": "display_data"
    }
   ],
   "source": [
    "// set up dependencies\n",
    "// use local maven repository; not yet deployed to remote maven repositories.\n",
    "@file:Repository(\"*mavenLocal\")\n",
    "@file:Repository(\"https://maven.scijava.org/content/groups/public\")\n",
    "\n",
    "// uncomment to search in your local maven repo\n",
    "// requires installation into local maven repository (./gradlew build publishToMavenLocal)\n",
    "@file:DependsOn(\"org.ntakt:ntakt:0.1.5-SNAPSHOT\")\n",
    "\n",
    "// uncomment to search in jitpack\n",
    "// @file:DependsOn(\"org.ntakt:ntakt:main-SNAPSHOT\")\n",
    "\n",
    "@file:DependsOn(\"net.imglib2:imglib2-label-multisets:0.8.1\")\n",
    "@file:DependsOn(\"sc.fiji:bigdataviewer-vistools:1.0.0-beta-21\")\n",
    "%use lets-plot"
   ]
  },
  {
   "cell_type": "code",
   "execution_count": 2,
   "metadata": {},
   "outputs": [],
   "source": [
    "// for hsv to rgb\n",
    "import java.awt.Color\n",
    "\n",
    "import bdv.util.BdvOptions\n",
    "import kotlin.math.abs\n",
    "import kotlin.math.cos\n",
    "import kotlin.math.min\n",
    "import kotlin.math.pow\n",
    "import kotlin.math.sin\n",
    "import kotlin.math.sqrt\n",
    "import kotlin.random.Random\n",
    "import net.imglib2.KDTree\n",
    "import net.imglib2.RealPoint\n",
    "import net.imglib2.converter.Converter\n",
    "import net.imglib2.interpolation.neighborsearch.InverseDistanceWeightingInterpolatorFactory\n",
    "import net.imglib2.neighborsearch.KNearestNeighborSearchOnKDTree\n",
    "import net.imglib2.type.numeric.ARGBType\n",
    "import net.imglib2.type.numeric.integer.IntType\n",
    "import net.imglib2.view.Views\n",
    "import org.ntakt.*"
   ]
  },
  {
   "cell_type": "code",
   "execution_count": 3,
   "metadata": {},
   "outputs": [
    {
     "data": {
      "text/plain": [
       "bdv.util.BdvStackSource@1d131e1b"
      ]
     },
     "execution_count": 3,
     "metadata": {},
     "output_type": "execute_result"
    }
   ],
   "source": [
    "val euclideanNormSquared2D = ntakt.function(2, { ntakt.types.double }) { s, t ->\n",
    "    t.setReal(s.getDoublePosition(0).pow(2) + s.getDoublePosition(1).pow(2))\n",
    "}\n",
    "val interval1 = intArrayOf(-256, -256, 0, 0).intervalMinMax\n",
    "val interval2 = intArrayOf(0, 0, +256, +256).intervalMinMax\n",
    "val bdv = euclideanNormSquared2D.rastered[interval1].show(\"Euclidean norm 2D 1\", BdvOptions.options().is2D())\n",
    "euclideanNormSquared2D.rastered[interval2].show(\"Euclidean norm 2D 2\", bdv=bdv)"
   ]
  },
  {
   "cell_type": "markdown",
   "metadata": {},
   "source": [
    "## Fractals"
   ]
  },
  {
   "cell_type": "code",
   "execution_count": 4,
   "metadata": {},
   "outputs": [],
   "source": [
    "// utility functions to convert into ARGB space, if desired\n",
    "// modify this for cool looking results\n",
    "inline fun makeConverter(\n",
    "    n: Int, \n",
    "    saturation: (Double) -> Double = { 0.3 }, \n",
    "    value: (Double) -> Double = { it },\n",
    "    hue: (Double) -> Double): Converter<IntType, ARGBType>\n",
    "    {\n",
    "    val colors = IntArray(n) {\n",
    "        val fraction = it.toDouble() / n\n",
    "        val h = hue(fraction)\n",
    "        val sat = saturation(fraction)\n",
    "        val v = value(fraction)\n",
    "        val rgb = Color.HSBtoRGB(h.toFloat(), sat.toFloat(), v.toFloat())\n",
    "        val r = (rgb shr 16) and 0xff\n",
    "        val g = (rgb shr  8) and 0xff\n",
    "        val b = (rgb shr  0) and 0xff\n",
    "        val argb = ARGBType.rgba(r, g, b, 0)\n",
    "        if (it == n - 1) 0 else argb\n",
    "    }\n",
    "    return Converter { s, t -> t.set(colors[min(s.integer, n - 1)]) }\n",
    "}\n",
    "\n",
    "fun makeRandomConverter(n: Int, random: Random) = makeConverter(n) { random.nextDouble() }\n",
    "fun makeGrayscaleConverter(n: Int) = makeConverter(n, { 0.0 }, { it }) { 0.0 }\n",
    "fun makeMulticolorConverter(\n",
    "    n: Int, \n",
    "    saturation: (Double) -> Double = { 0.3 }, \n",
    "    value: (Double) -> Double = { it },\n",
    "    vararg fractionToHue: Pair<Double, Double>): Converter<IntType, ARGBType>\n",
    "{\n",
    "    require(fractionToHue.isNotEmpty())\n",
    "    val hues = fractionToHue.map { ntakt.types.double.createWithValue(it.second) }\n",
    "    val points = fractionToHue.map { RealPoint(it.first) }\n",
    "    val nnSearch = KNearestNeighborSearchOnKDTree(KDTree(hues, points), 2)\n",
    "    val interpolated = Views.interpolate(nnSearch, InverseDistanceWeightingInterpolatorFactory())\n",
    "    val rra = interpolated.realRandomAccess()\n",
    "    return makeConverter(n, saturation, value) { rra.setPosition(it, 0); rra.get().realDouble }\n",
    "}\n",
    "fun makeTwoColorConverter(\n",
    "    n: Int,\n",
    "    hueLow: Double = 180.0 / 360.0,\n",
    "    hueHigh: Double = 60.0 / 360.0,\n",
    "    saturation: Double = 0.3,\n",
    "    value: (Double) -> Double = { 1.0 }) \n",
    "        = makeConverter(\n",
    "            n,\n",
    "            { saturation * 2.0 * abs(it-0.5) },\n",
    "            value,\n",
    "            { (if (it < 0.5) hueLow else hueHigh) })"
   ]
  },
  {
   "cell_type": "markdown",
   "metadata": {},
   "source": [
    "### Julia\n",
    "\n",
    "Wikipedia has a list of cool values for c: https://en.wikipedia.org/wiki/Julia_set#Quadratic_polynomials"
   ]
  },
  {
   "cell_type": "code",
   "execution_count": 5,
   "metadata": {},
   "outputs": [],
   "source": [
    "// c&p from Stephan Saalfeld's Java code snippet\n",
    "// Julia with c = 0.2 + i0.6\n",
    "fun julia(real: Double, imaginary: Double, r: Double, cRe: Double, cIm: Double, iterations: Int): Int {\n",
    "    var i = 0\n",
    "    var re = real\n",
    "    var im = imaginary\n",
    "    while (i < iterations && re * re + im * im < r*r) {\n",
    "        val e = re * re - im * im\n",
    "        im = 2 * re * im + cIm\n",
    "        re = e + cRe\n",
    "        ++i\n",
    "    }\n",
    "    return i\n",
    "}"
   ]
  },
  {
   "cell_type": "markdown",
   "metadata": {},
   "source": [
    "#### Fixed c and radius"
   ]
  },
  {
   "cell_type": "code",
   "execution_count": 6,
   "metadata": {},
   "outputs": [],
   "source": [
    "val iterations = 256\n",
    "val cIm = 0.6\n",
    "val cRe = 0.2\n",
    "// play around with r; for r ~ 1, very \"interesting looking results\"\n",
    "val r = 2.0\n",
    "val fractal = ntakt.function(2, { ntakt.types.int }) { s, t ->\n",
    "    t.setInteger(julia(s.getDoublePosition(0), s.getDoublePosition(1), r, cRe, cIm, iterations))\n",
    "}\n",
    "val interval = intArrayOf(-1, -1, +1, +1).intervalMinMax\n",
    "val convertedFractal = fractal.convert(ARGBType(), makeRandomConverter(iterations, Random(1)))\n",
    "// show either convertedFractal or fractal\n",
    "convertedFractal.show(\"julia\", interval, BdvOptions.options().is2D()).setDisplayRange(0.0, 64.0)"
   ]
  },
  {
   "cell_type": "markdown",
   "metadata": {},
   "source": [
    "#### Fixed c and variable radius"
   ]
  },
  {
   "cell_type": "code",
   "execution_count": 7,
   "metadata": {},
   "outputs": [],
   "source": [
    "val iterations = 256\n",
    "val cIm = 0.6\n",
    "val cRe = -0.4\n",
    "val fractal = ntakt.function(3, { ntakt.types.int }) { s, t ->\n",
    "    t.setInteger(julia(s.getDoublePosition(0), s.getDoublePosition(1), s.getDoublePosition(2), cRe, cIm, iterations))\n",
    "}\n",
    "val interval = intArrayOf(-1, -1, 0, +1, +1, +4).intervalMinMax\n",
    "val convertedFractal = fractal.convert(ARGBType(), makeRandomConverter(iterations, Random(1)))\n",
    "// show either convertedFractal or fractal\n",
    "convertedFractal.show(\"julia\", interval, BdvOptions.options()).setDisplayRange(0.0, 64.0)"
   ]
  },
  {
   "cell_type": "markdown",
   "metadata": {},
   "source": [
    "#### Fixed radius and variable c "
   ]
  },
  {
   "cell_type": "code",
   "execution_count": 8,
   "metadata": {},
   "outputs": [],
   "source": [
    "val iterations = 256\n",
    "val magnitude = 0.7885 // modify this\n",
    "val r = 2.0\n",
    "val fractal = ntakt.function(3, { ntakt.types.int }) { s, t ->\n",
    "    val angleInRadians = s.getDoublePosition(2)\n",
    "    val cRe = magnitude * cos(angleInRadians)\n",
    "    val cIm = magnitude * sin(angleInRadians)\n",
    "    t.setInteger(julia(s.getDoublePosition(0), s.getDoublePosition(1), r, cRe, cIm, iterations))\n",
    "}\n",
    "val interval = intArrayOf(-1, -1, 0, +1, +1, +6).intervalMinMax\n",
    "val convertedFractal = fractal.convert(ARGBType(), makeRandomConverter(iterations, Random(1)))\n",
    "// show either convertedFractal or fractal\n",
    "convertedFractal.show(\"julia\", interval, BdvOptions.options()).setDisplayRange(0.0, 64.0)"
   ]
  },
  {
   "cell_type": "markdown",
   "metadata": {},
   "source": [
    "### Mandelbrot"
   ]
  },
  {
   "cell_type": "code",
   "execution_count": 9,
   "metadata": {},
   "outputs": [],
   "source": [
    "fun mandelbrot(real: Double, imaginary: Double, r: Double, iterations: Int): Int {\n",
    "    var i = 0\n",
    "    var re = 0.0\n",
    "    var im = 0.0\n",
    "    while (i < iterations && re * re + im * im < r*r) {\n",
    "        val e = re * re - im * im + real\n",
    "        im = 2 * re * im + imaginary\n",
    "        re = e\n",
    "        ++i\n",
    "    }\n",
    "    return i\n",
    "}"
   ]
  },
  {
   "cell_type": "code",
   "execution_count": 10,
   "metadata": {},
   "outputs": [],
   "source": [
    "val iterations = 256\n",
    "val fractal = ntakt.function(3, { ntakt.types.int }) { s, t ->\n",
    "    t.setInteger(mandelbrot(s.getDoublePosition(0), s.getDoublePosition(1), s.getDoublePosition(2), iterations))\n",
    "}\n",
    "val interval = intArrayOf(-1, -1, 0, +1, +1, +4).intervalMinMax\n",
    "val convertedFractal = fractal.convert(ARGBType(), makeRandomConverter(iterations, Random(1)))\n",
    "// show either convertedFractal or fractal\n",
    "convertedFractal.show(\"mandelbrot\", interval, BdvOptions.options()).setDisplayRange(0.0, iterations.toDouble())"
   ]
  },
  {
   "cell_type": "markdown",
   "metadata": {},
   "source": [
    "### Tricorn"
   ]
  },
  {
   "cell_type": "code",
   "execution_count": 11,
   "metadata": {},
   "outputs": [],
   "source": [
    "fun tricorn(real: Double, imaginary: Double, r: Double, iterations: Int): Int {\n",
    "    var i = 0\n",
    "    var re = 0.0\n",
    "    var im = 0.0\n",
    "    while (i < iterations && re * re + im * im < r*r) {\n",
    "        val e = re * re - im * im + real\n",
    "        im = -2 * re * im + imaginary\n",
    "        re = e\n",
    "        ++i\n",
    "    }\n",
    "    return i\n",
    "}"
   ]
  },
  {
   "cell_type": "code",
   "execution_count": 12,
   "metadata": {},
   "outputs": [],
   "source": [
    "val iterations = 256\n",
    "val fractal = ntakt.function(3, { ntakt.types.int }) { s, t ->\n",
    "    t.setInteger(tricorn(s.getDoublePosition(0), s.getDoublePosition(1), s.getDoublePosition(2), iterations))\n",
    "}\n",
    "val interval = intArrayOf(-1, -1, 0, +1, +1, +4).intervalMinMax\n",
    "val convertedFractal = fractal.convert(ARGBType(), makeRandomConverter(iterations, Random(1)))\n",
    "// show either convertedFractal or fractal\n",
    "convertedFractal.show(\"tricorn\", interval, BdvOptions.options()).setDisplayRange(0.0, iterations.toDouble())"
   ]
  }
 ],
 "metadata": {
  "kernelspec": {
   "display_name": "Kotlin",
   "language": "kotlin",
   "name": "kotlin"
  },
  "language_info": {
   "codemirror_mode": "text/x-kotlin",
   "file_extension": ".kt",
   "mimetype": "text/x-kotlin",
   "name": "kotlin",
   "nbconvert_exporter": "",
   "pygments_lexer": "kotlin",
   "version": "1.7.0-dev-1825"
  }
 },
 "nbformat": 4,
 "nbformat_minor": 4
}
