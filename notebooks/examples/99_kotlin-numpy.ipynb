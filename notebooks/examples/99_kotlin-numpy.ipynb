{
 "cells": [
  {
   "cell_type": "code",
   "execution_count": 1,
   "metadata": {},
   "outputs": [
    {
     "name": "stderr",
     "output_type": "stream",
     "text": [
      "Failed to resolve org.jetbrains:kotlin-numpy:0.1.5:\n",
      "File 'org.jetbrains:kotlin-numpy:0.1.5' not found\n",
      "org.jetbrains.kotlin.org.eclipse.aether.resolution.DependencyResolutionException: Failed to read artifact descriptor for org.jetbrains:kotlin-numpy:jar:0.1.5"
     ]
    }
   ],
   "source": [
    "// set up dependencies\n",
    "\n",
    "// requires Python and numpy installation. Worked with Python==3.6 but not Python>=3.7\n",
    "\n",
    "// use local repo for now; not deployed to remote maven repo yet\n",
    "@file:Repository(\"*mavenLocal\")\n",
    "@file:Repository(\"https://maven.scijava.org/content/groups/public\")\n",
    "// bintray is offline and the README on https://github.com/Kotlin/kotlin-numpy\n",
    "// does not provide any updated instructions. The last commit is from April 5 2021.\n",
    "// Should we assume that kotlin-numpy has been discontinued?\n",
    "@file:Repository(\"https://dl.bintray.com/kotlin/kotlin-datascience\")\n",
    "\n",
    "@file:DependsOn(\"org.jetbrains:kotlin-numpy:0.1.5\")\n",
    "\n",
    "// uncomment to search in your local maven repo\n",
    "// requires installation into local maven repository (./gradlew build publishToMavenLocal)\n",
    "@file:DependsOn(\"org.ntakt:ntakt:0.1.5-SNAPSHOT\")\n",
    "\n",
    "// uncomment to search in jitpack\n",
    "// @file:DependsOn(\"org.ntakt:ntakt:main-SNAPSHOT\")"
   ]
  },
  {
   "cell_type": "code",
   "execution_count": 2,
   "metadata": {},
   "outputs": [
    {
     "name": "stderr",
     "output_type": "stream",
     "text": [
      "Line_1.jupyter-kts (2:8 - 11) Unresolved reference: net\n",
      "Line_1.jupyter-kts (3:22 - 27) Unresolved reference: numkt\n",
      "Line_1.jupyter-kts (4:22 - 27) Unresolved reference: numkt\n",
      "Line_1.jupyter-kts (5:22 - 27) Unresolved reference: numkt\n",
      "Line_1.jupyter-kts (6:12 - 17) Unresolved reference: ntakt\n",
      "Line_1.jupyter-kts (7:12 - 17) Unresolved reference: ntakt"
     ]
    }
   ],
   "source": [
    "// We need ArrayImgs because we cannot pass access into ntakt convenience functions yet.\n",
    "import net.imglib2.img.array.ArrayImgs\n",
    "import org.jetbrains.numkt.core.*\n",
    "import org.jetbrains.numkt.math.*\n",
    "import org.jetbrains.numkt.*\n",
    "import org.ntakt.*\n",
    "import org.ntakt.access.DoubleBufferAccess"
   ]
  },
  {
   "cell_type": "code",
   "execution_count": 3,
   "metadata": {},
   "outputs": [
    {
     "name": "stderr",
     "output_type": "stream",
     "text": [
      "Line_2.jupyter-kts (1:9 - 15) Unresolved reference: arange\n",
      "Line_2.jupyter-kts (2:14 - 32) Unresolved reference: DoubleBufferAccess\n",
      "Line_2.jupyter-kts (3:12 - 21) Unresolved reference: ArrayImgs\n",
      "Line_2.jupyter-kts (5:1 - 8) Overload resolution ambiguity: \n",
      "public inline fun println(message: Any?): Unit defined in kotlin.io\n",
      "public inline fun println(message: Boolean): Unit defined in kotlin.io\n",
      "public inline fun println(message: Byte): Unit defined in kotlin.io\n",
      "public inline fun println(message: Char): Unit defined in kotlin.io\n",
      "public inline fun println(message: CharArray): Unit defined in kotlin.io\n",
      "public inline fun println(message: Double): Unit defined in kotlin.io\n",
      "public inline fun println(message: Float): Unit defined in kotlin.io\n",
      "public inline fun println(message: Int): Unit defined in kotlin.io\n",
      "public inline fun println(message: Long): Unit defined in kotlin.io\n",
      "public inline fun println(message: Short): Unit defined in kotlin.io\n",
      "Line_2.jupyter-kts (6:6 - 13) Overload resolution ambiguity: \n",
      "public inline fun <T> Iterable<TypeVariable(T)>.forEach(action: (TypeVariable(T)) -> Unit): Unit defined in kotlin.collections\n",
      "public inline fun <K, V> Map<out TypeVariable(K), TypeVariable(V)>.forEach(action: (Map.Entry<TypeVariable(K), TypeVariable(V)>) -> Unit): Unit defined in kotlin.collections\n",
      "Line_2.jupyter-kts (6:16 - 18) Unresolved reference: it\n",
      "Line_2.jupyter-kts (6:40 - 42) Unresolved reference: it\n",
      "Line_2.jupyter-kts (8:1 - 8) Overload resolution ambiguity: \n",
      "public inline fun println(message: Any?): Unit defined in kotlin.io\n",
      "public inline fun println(message: Boolean): Unit defined in kotlin.io\n",
      "public inline fun println(message: Byte): Unit defined in kotlin.io\n",
      "public inline fun println(message: Char): Unit defined in kotlin.io\n",
      "public inline fun println(message: CharArray): Unit defined in kotlin.io\n",
      "public inline fun println(message: Double): Unit defined in kotlin.io\n",
      "public inline fun println(message: Float): Unit defined in kotlin.io\n",
      "public inline fun println(message: Int): Unit defined in kotlin.io\n",
      "public inline fun println(message: Long): Unit defined in kotlin.io\n",
      "public inline fun println(message: Short): Unit defined in kotlin.io"
     ]
    }
   ],
   "source": [
    "val a = arange(15.0)\n",
    "val access = DoubleBufferAccess(a.data!!)\n",
    "val dimg = ArrayImgs.doubles(access, a.size.toLong())\n",
    "println(dimg.flatStringRepresentation)\n",
    "println(a)\n",
    "dimg.forEach { it.set(kotlin.math.sqrt(it.realDouble)) }\n",
    "println(dimg.flatStringRepresentation)\n",
    "println(a)"
   ]
  }
 ],
 "metadata": {
  "kernelspec": {
   "display_name": "Kotlin",
   "language": "kotlin",
   "name": "kotlin"
  },
  "language_info": {
   "codemirror_mode": "text/x-kotlin",
   "file_extension": ".kt",
   "mimetype": "text/x-kotlin",
   "name": "kotlin",
   "nbconvert_exporter": "",
   "pygments_lexer": "kotlin",
   "version": "1.7.0-dev-1825"
  }
 },
 "nbformat": 4,
 "nbformat_minor": 4
}
