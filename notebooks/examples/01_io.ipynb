{
 "cells": [
  {
   "cell_type": "markdown",
   "metadata": {},
   "source": [
    "# ntakt IO\n",
    "\n",
    "ntakt offers rudimentary and experimental IO support for images and N5/Zarr. We use [`BigDataViewer`](https://imagej.net/BigDataViewer) to visualize images and multi-dimensional data in this example."
   ]
  },
  {
   "cell_type": "code",
   "execution_count": 1,
   "metadata": {},
   "outputs": [
    {
     "data": {
      "text/html": [
       "   <div id=\"4xgXyg\"></div>\n",
       "   <script type=\"text/javascript\" data-lets-plot-script=\"library\">\n",
       "       if(!window.letsPlotCallQueue) {\n",
       "           window.letsPlotCallQueue = [];\n",
       "       }; \n",
       "       window.letsPlotCall = function(f) {\n",
       "           window.letsPlotCallQueue.push(f);\n",
       "       };\n",
       "       (function() {\n",
       "           var script = document.createElement(\"script\");\n",
       "           script.type = \"text/javascript\";\n",
       "           script.src = \"https://cdn.jsdelivr.net/gh/JetBrains/lets-plot@v2.2.1/js-package/distr/lets-plot.min.js\";\n",
       "           script.onload = function() {\n",
       "               window.letsPlotCall = function(f) {f();};\n",
       "               window.letsPlotCallQueue.forEach(function(f) {f();});\n",
       "               window.letsPlotCallQueue = [];\n",
       "               \n",
       "               \n",
       "           };\n",
       "           script.onerror = function(event) {\n",
       "               window.letsPlotCall = function(f) {};\n",
       "               window.letsPlotCallQueue = [];\n",
       "               var div = document.createElement(\"div\");\n",
       "               div.style.color = 'darkred';\n",
       "               div.textContent = 'Error loading Lets-Plot JS';\n",
       "               document.getElementById(\"4xgXyg\").appendChild(div);\n",
       "           };\n",
       "           var e = document.getElementById(\"4xgXyg\");\n",
       "           e.appendChild(script);\n",
       "       })();\n",
       "   </script>"
      ]
     },
     "metadata": {},
     "output_type": "display_data"
    }
   ],
   "source": [
    "// set up dependencies\n",
    "// use local maven repository; not yet deployed to remote maven repositories.\n",
    "@file:Repository(\"*mavenLocal\")\n",
    "@file:Repository(\"https://maven.scijava.org/content/groups/public\")\n",
    "\n",
    "// uncomment to search in your local maven repo\n",
    "// requires installation into local maven repository (./gradlew build publishToMavenLocal)\n",
    "@file:DependsOn(\"org.ntakt:ntakt:0.1.5-SNAPSHOT\")\n",
    "\n",
    "// uncomment to search in jitpack\n",
    "// @file:DependsOn(\"org.ntakt:ntakt:main-SNAPSHOT\")\n",
    "\n",
    "@file:DependsOn(\"net.imglib2:imglib2-label-multisets:0.8.1\")\n",
    "@file:DependsOn(\"sc.fiji:bigdataviewer-vistools:1.0.0-beta-21\")\n",
    "%use lets-plot"
   ]
  },
  {
   "cell_type": "code",
   "execution_count": 2,
   "metadata": {},
   "outputs": [],
   "source": [
    "import org.ntakt.*"
   ]
  },
  {
   "cell_type": "markdown",
   "metadata": {},
   "source": [
    "## 2D ARGB Image"
   ]
  },
  {
   "cell_type": "code",
   "execution_count": 3,
   "metadata": {},
   "outputs": [
    {
     "data": {
      "text/plain": [
       "null"
      ]
     },
     "execution_count": 3,
     "metadata": {},
     "output_type": "execute_result"
    }
   ],
   "source": [
    "// update path to an image on your computer\n",
    "val path = \"/home/zottel/Pictures/Screenshot_20200822_102323.png\"\n",
    "val img = ntakt.io.open(path).asInts().asARGBs()\n",
    "img.show(\"screenshot\")\n",
    "null"
   ]
  },
  {
   "cell_type": "markdown",
   "metadata": {},
   "source": [
    "## 2D 16-bit Grayscale Image\n",
    "The `t1-head.tif` example is available in the ImageJ samples. Set the contrast range inside `BigDataViewer`."
   ]
  },
  {
   "cell_type": "code",
   "execution_count": 4,
   "metadata": {},
   "outputs": [
    {
     "data": {
      "text/plain": [
       "null"
      ]
     },
     "execution_count": 4,
     "metadata": {},
     "output_type": "execute_result"
    }
   ],
   "source": [
    "// update path to an image on your computer\n",
    "val path = \"/home/zottel/Downloads/t1-head.tif\"\n",
    "val img = ntakt.io.open(path).asUnsignedBytes()\n",
    "img.show(\"head\")\n",
    "null"
   ]
  },
  {
   "cell_type": "markdown",
   "metadata": {},
   "source": [
    "## 3D Volumetric Data\n",
    "Download the data on the CREMI [website](https://cremi.org/data)"
   ]
  },
  {
   "cell_type": "code",
   "execution_count": 5,
   "metadata": {},
   "outputs": [
    {
     "data": {
      "text/plain": [
       "null"
      ]
     },
     "execution_count": 5,
     "metadata": {},
     "output_type": "execute_result"
    }
   ],
   "source": [
    "// update path to an image on your computer\n",
    "val path = \"/home/zottel/Downloads/sample_A_20160501.hdf\"\n",
    "val img = ntakt.io.n5.openUntypedHDF5(path, \"volumes/raw\")\n",
    "// use volatileView to avoid blocking while loading data\n",
    "img.volatileView.show(\"raw\")\n",
    "null"
   ]
  }
 ],
 "metadata": {
  "kernelspec": {
   "display_name": "Kotlin",
   "language": "kotlin",
   "name": "kotlin"
  },
  "language_info": {
   "codemirror_mode": "text/x-kotlin",
   "file_extension": ".kt",
   "mimetype": "text/x-kotlin",
   "name": "kotlin",
   "nbconvert_exporter": "",
   "pygments_lexer": "kotlin",
   "version": "1.7.0-dev-1825"
  }
 },
 "nbformat": 4,
 "nbformat_minor": 4
}
