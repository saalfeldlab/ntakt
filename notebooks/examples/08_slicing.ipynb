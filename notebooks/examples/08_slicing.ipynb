{
 "cells": [
  {
   "cell_type": "markdown",
   "metadata": {},
   "source": [
    "# Slicing\n",
    "\n",
    "Users coming from Python, and in particular NumPy, are familiar and used to powerful slicing operations. I tried to mirror that behavior for `RandomAccessibleInterval` to some extent and adopt in ntakt as much as possible. As of now, only basic slicing is supported. Unfortunately, the very concise Python syntax for slicing, i.e.\n",
    "```python\n",
    "start:stop:step\n",
    "```\n",
    "where any of `start`, `stop`, `step` can be omitted, cannot be translated to Kotlin verbatim. Instead, I introduced a `Slicing` interface that can be either an `Ellipsis` (equivalent to `...` in Python) or a `Slice` (equivalent to `slice` in Python). For brevity, I introduced the following convenience functions with Python equivalent in comments (all functions are overloaded for combinations of `Long`/`Int` but only the `Long` overloads are presented, for brevity):\n",
    "```Kotlin\n",
    "infix fun Long.sl(stop: Long): Slice   // this:stop\n",
    "infix fun Slice.st(step: Long): Slice  // slice.start:slice.stop:step\n",
    "val Long.start: Slice                  // this:\n",
    "val Long.stop: Slice                   // :this\n",
    "val Long.step: Slice                   // ::this\n",
    "val Long.pos: Position                 // this (pin dim to index by scalar; reduces number of dims by 1)\n",
    "```\n",
    "The `Ellipsis` has a single instance that can be accessed via `_el` (name may change in the future).\n",
    "\n",
    "**Note**: `min` and `max` of a `RandomAccessibleInterval` are not considered and `RandomAccessibleInterval.isZeroMin` is enforced."
   ]
  },
  {
   "cell_type": "code",
   "execution_count": 1,
   "metadata": {},
   "outputs": [],
   "source": [
    "// set up dependencies\n",
    "// use local maven repository; not yet deployed to remote maven repositories.\n",
    "@file:Repository(\"*mavenLocal\")\n",
    "@file:Repository(\"https://maven.scijava.org/content/groups/public\")\n",
    "\n",
    "// uncomment to search in your local maven repo\n",
    "// requires installation into local maven repository (./gradlew build publishToMavenLocal)\n",
    "@file:DependsOn(\"org.ntakt:ntakt:0.1.5-SNAPSHOT\")\n",
    "\n",
    "// uncomment to search in jitpack\n",
    "// @file:DependsOn(\"org.ntakt:ntakt:main-SNAPSHOT\")"
   ]
  },
  {
   "cell_type": "code",
   "execution_count": 2,
   "metadata": {},
   "outputs": [],
   "source": [
    "import org.ntakt.*"
   ]
  },
  {
   "cell_type": "markdown",
   "metadata": {},
   "source": [
    "## Examples\n",
    "\n",
    "### 1D"
   ]
  },
  {
   "cell_type": "code",
   "execution_count": 3,
   "metadata": {},
   "outputs": [
    {
     "name": "stdout",
     "output_type": "stream",
     "text": [
      "ArrayImg [10]: [0, 1, 2, 3, 4, 5, 6, 7, 8, 9]\n",
      "net.imglib2.view.SubsampleIntervalView@537d77ba: [0, 1, 2, 3, 4, 5, 6, 7, 8, 9]\n",
      "net.imglib2.view.SubsampleIntervalView@376427b5: [0, 1, 2, 3, 4, 5, 6, 7, 8, 9]\n",
      "net.imglib2.view.SubsampleIntervalView@5bf9b4fb: [3, 4, 5, 6, 7, 8, 9]\n",
      "net.imglib2.view.SubsampleIntervalView@620454d8: [3, 4, 5, 6, 7, 8, 9]\n",
      "net.imglib2.view.SubsampleIntervalView@1f873b51: [0, 1, 2, 3, 4, 5, 6]\n",
      "net.imglib2.view.SubsampleIntervalView@195d5bb6: [0, 3, 6, 9]\n",
      "net.imglib2.view.SubsampleIntervalView@1929b5f4: [9, 6, 3, 0]\n",
      "net.imglib2.view.SubsampleIntervalView@5d5bbf63: [1, 2, 3, 4, 5, 6, 7, 8]\n",
      "net.imglib2.view.SubsampleIntervalView@35e5cae8: [1, 2, 3, 4, 5, 6, 7, 8]\n",
      "net.imglib2.view.SubsampleIntervalView@613c6263: [1, 6]\n",
      "net.imglib2.view.SubsampleIntervalView@619c6980: [1, 6]\n",
      "net.imglib2.view.SubsampleIntervalView@2fb521cb: [8, 3]\n",
      "net.imglib2.view.SubsampleIntervalView@349c1c5f: [8, 3]\n",
      "net.imglib2.view.SubsampleIntervalView@36315fd5: []\n"
     ]
    }
   ],
   "source": [
    "val img = ntakt.ints(10) { it }\n",
    "println(img.flatStringRepresentation)\n",
    "println(img[_el].flatStringRepresentation)\n",
    "println(img[slice()].flatStringRepresentation)\n",
    "println(img[3.start].flatStringRepresentation)\n",
    "println(img.translate(1345315L)[3.start].flatStringRepresentation)\n",
    "println(img[7.stop].flatStringRepresentation)\n",
    "println(img[3.step].flatStringRepresentation)\n",
    "println(img[(-3).step].flatStringRepresentation)\n",
    "println(img[1 sl 9].flatStringRepresentation)\n",
    "println(img[1 sl -1].flatStringRepresentation)\n",
    "println(img[1 sl 9 st 5].flatStringRepresentation)\n",
    "println(img[1 sl -1 st 5].flatStringRepresentation)\n",
    "println(img[1 sl 9 st -5].flatStringRepresentation)\n",
    "println(img[1 sl -1 st -5].flatStringRepresentation)\n",
    "println(img[1 sl 1].flatStringRepresentation)"
   ]
  },
  {
   "cell_type": "markdown",
   "metadata": {},
   "source": [
    "### 2D"
   ]
  },
  {
   "cell_type": "code",
   "execution_count": 4,
   "metadata": {},
   "outputs": [
    {
     "name": "stdout",
     "output_type": "stream",
     "text": [
      "IntervalView [(0) -- (1) = 2]: [0, 1]\n",
      "IntervalView [(0) -- (1) = 2]: [2, 3]\n",
      "IntervalView [(0) -- (1) = 2]: [4, 5]\n",
      "\n",
      "IntervalView [(0) -- (1) = 2]: [1, 0]\n",
      "IntervalView [(0) -- (1) = 2]: [3, 2]\n",
      "IntervalView [(0) -- (1) = 2]: [5, 4]\n",
      "\n",
      "IntervalView [(0) -- (1) = 2]: [4, 5]\n",
      "IntervalView [(0) -- (1) = 2]: [2, 3]\n",
      "IntervalView [(0) -- (1) = 2]: [0, 1]\n",
      "\n",
      "IntervalView [(0) -- (1) = 2]: [5, 4]\n",
      "IntervalView [(0) -- (1) = 2]: [3, 2]\n",
      "IntervalView [(0) -- (1) = 2]: [1, 0]\n",
      "\n",
      "IntervalView [(0) -- (1) = 2]: [5, 4]\n",
      "IntervalView [(0) -- (1) = 2]: [3, 2]\n",
      "\n",
      "IntervalView [(0) -- (1) = 2]: [5, 4]\n",
      "IntervalView [(0) -- (1) = 2]: [1, 0]\n"
     ]
    }
   ],
   "source": [
    "val img = ntakt.ints(2, 3) { it }\n",
    "img.hyperSlicesList(1).forEach { println(it.flatStringRepresentation) }\n",
    "println()\n",
    "img[(-1).step].hyperSlicesList(1).forEach { println(it.flatStringRepresentation) }\n",
    "println()\n",
    "img[_el, (-1).step].hyperSlicesList(1).forEach { println(it.flatStringRepresentation) }\n",
    "println()\n",
    "img[(-1).step, (-1).step].hyperSlicesList(1).forEach { println(it.flatStringRepresentation) }\n",
    "println()\n",
    "img[(-1).step, 1 sl 3 st -1].hyperSlicesList(1).forEach { println(it.flatStringRepresentation) }\n",
    "println()\n",
    "img[(-1).step, 3.stop st -2].hyperSlicesList(1).forEach { println(it.flatStringRepresentation) }"
   ]
  },
  {
   "cell_type": "markdown",
   "metadata": {},
   "source": [
    "### 3D with Scalar Slicing"
   ]
  },
  {
   "cell_type": "code",
   "execution_count": 5,
   "metadata": {},
   "outputs": [
    {
     "name": "stdout",
     "output_type": "stream",
     "text": [
      "Entire data\n",
      "IntervalView [(0) -- (1) = 2]: [0, 1] (z=0)\n",
      "IntervalView [(0) -- (1) = 2]: [2, 3] (z=0)\n",
      "IntervalView [(0) -- (1) = 2]: [4, 5] (z=0)\n",
      "IntervalView [(0) -- (1) = 2]: [6, 7] (z=1)\n",
      "IntervalView [(0) -- (1) = 2]: [8, 9] (z=1)\n",
      "IntervalView [(0) -- (1) = 2]: [10, 11] (z=1)\n",
      "IntervalView [(0) -- (1) = 2]: [12, 13] (z=2)\n",
      "IntervalView [(0) -- (1) = 2]: [14, 15] (z=2)\n",
      "IntervalView [(0) -- (1) = 2]: [16, 17] (z=2)\n",
      "IntervalView [(0) -- (1) = 2]: [18, 19] (z=3)\n",
      "IntervalView [(0) -- (1) = 2]: [20, 21] (z=3)\n",
      "IntervalView [(0) -- (1) = 2]: [22, 23] (z=3)\n",
      "\n",
      "x pinned to 1\n",
      "IntervalView [(0) -- (2) = 3]: [1, 3, 5]\n",
      "IntervalView [(0) -- (2) = 3]: [7, 9, 11]\n",
      "IntervalView [(0) -- (2) = 3]: [13, 15, 17]\n",
      "IntervalView [(0) -- (2) = 3]: [19, 21, 23]\n",
      "\n",
      "y pinned to 0\n",
      "IntervalView [(0) -- (1) = 2]: [0, 1]\n",
      "IntervalView [(0) -- (1) = 2]: [6, 7]\n",
      "IntervalView [(0) -- (1) = 2]: [12, 13]\n",
      "IntervalView [(0) -- (1) = 2]: [18, 19]\n",
      "\n",
      "z pinned to 3, every other y\n",
      "IntervalView [(0) -- (1) = 2]: [18, 19]\n",
      "IntervalView [(0) -- (1) = 2]: [22, 23]\n",
      "\n",
      "min/max are disregarded. Translate by [1, -2, 3], then z pinned to 3, every other y\n",
      "IntervalView [(0) -- (1) = 2]: [18, 19]\n",
      "IntervalView [(0) -- (1) = 2]: [22, 23]\n"
     ]
    }
   ],
   "source": [
    "val img = ntakt.ints(2, 3, 4) { it }\n",
    "println(\"Entire data\")\n",
    "for (i in 0 until 4)\n",
    "    img[_el, i.pos].hyperSlicesList(1).forEach { println(\"${it.flatStringRepresentation} (z=$i)\") }\n",
    "println()\n",
    "println(\"x pinned to 1\")\n",
    "img[1.pos].hyperSlicesList(1).forEach { println(it.flatStringRepresentation) }\n",
    "println()\n",
    "println(\"y pinned to 0\")\n",
    "img[slice(), 0.pos].hyperSlicesList(1).forEach { println(it.flatStringRepresentation) }\n",
    "println()\n",
    "println(\"z pinned to 3, every other y\")\n",
    "img[slice(), 2.step, 3.pos].hyperSlicesList(1).forEach { println(it.flatStringRepresentation) }\n",
    "println()\n",
    "println(\"min/max are disregarded. Translate by [1, -2, 3], then z pinned to 3, every other y\")\n",
    "img.translate(1L, -2L, 3L)[slice(), 2.step, 3.pos].hyperSlicesList(1).forEach { println(it.flatStringRepresentation) }"
   ]
  }
 ],
 "metadata": {
  "kernelspec": {
   "display_name": "Kotlin",
   "language": "kotlin",
   "name": "kotlin"
  },
  "language_info": {
   "codemirror_mode": "text/x-kotlin",
   "file_extension": ".kt",
   "mimetype": "text/x-kotlin",
   "name": "kotlin",
   "nbconvert_exporter": "",
   "pygments_lexer": "kotlin",
   "version": "1.7.0-dev-1825"
  }
 },
 "nbformat": 4,
 "nbformat_minor": 4
}
