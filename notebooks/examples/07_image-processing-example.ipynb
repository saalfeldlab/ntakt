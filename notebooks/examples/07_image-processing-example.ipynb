{
 "cells": [
  {
   "cell_type": "code",
   "execution_count": 1,
   "metadata": {},
   "outputs": [
    {
     "data": {
      "text/html": [
       "   <div id=\"lwa0oc\"></div>\n",
       "   <script type=\"text/javascript\" data-lets-plot-script=\"library\">\n",
       "       if(!window.letsPlotCallQueue) {\n",
       "           window.letsPlotCallQueue = [];\n",
       "       }; \n",
       "       window.letsPlotCall = function(f) {\n",
       "           window.letsPlotCallQueue.push(f);\n",
       "       };\n",
       "       (function() {\n",
       "           var script = document.createElement(\"script\");\n",
       "           script.type = \"text/javascript\";\n",
       "           script.src = \"https://cdn.jsdelivr.net/gh/JetBrains/lets-plot@v2.2.1/js-package/distr/lets-plot.min.js\";\n",
       "           script.onload = function() {\n",
       "               window.letsPlotCall = function(f) {f();};\n",
       "               window.letsPlotCallQueue.forEach(function(f) {f();});\n",
       "               window.letsPlotCallQueue = [];\n",
       "               \n",
       "               \n",
       "           };\n",
       "           script.onerror = function(event) {\n",
       "               window.letsPlotCall = function(f) {};\n",
       "               window.letsPlotCallQueue = [];\n",
       "               var div = document.createElement(\"div\");\n",
       "               div.style.color = 'darkred';\n",
       "               div.textContent = 'Error loading Lets-Plot JS';\n",
       "               document.getElementById(\"lwa0oc\").appendChild(div);\n",
       "           };\n",
       "           var e = document.getElementById(\"lwa0oc\");\n",
       "           e.appendChild(script);\n",
       "       })();\n",
       "   </script>"
      ]
     },
     "metadata": {},
     "output_type": "display_data"
    }
   ],
   "source": [
    "// set up dependencies\n",
    "// use local maven repository; not yet deployed to remote maven repositories.\n",
    "@file:Repository(\"*mavenLocal\")\n",
    "@file:Repository(\"https://maven.scijava.org/content/groups/public\")\n",
    "\n",
    "// uncomment to search in your local maven repo\n",
    "// requires installation into local maven repository (./gradlew build publishToMavenLocal)\n",
    "@file:DependsOn(\"org.ntakt:ntakt:0.1.5-SNAPSHOT\")\n",
    "\n",
    "// uncomment to search in jitpack\n",
    "// @file:DependsOn(\"org.ntakt:ntakt:main-SNAPSHOT\")\n",
    "\n",
    "// Add BDV vistools dependency for visualization\n",
    "@file:DependsOn(\"sc.fiji:bigdataviewer-vistools:1.0.0-beta-21\")\n",
    "\n",
    "%use lets-plot"
   ]
  },
  {
   "cell_type": "code",
   "execution_count": 2,
   "metadata": {},
   "outputs": [],
   "source": [
    "import kotlin.math.sqrt\n",
    "\n",
    "import java.nio.file.Paths\n",
    "\n",
    "import bdv.viewer.DisplayMode\n",
    "\n",
    "import net.imglib2.Point\n",
    "import net.imglib2.RandomAccessible as RA\n",
    "import net.imglib2.RandomAccessibleInterval as RAI\n",
    "import net.imglib2.type.numeric.RealType\n",
    "import net.imglib2.type.numeric.integer.UnsignedByteType\n",
    "import net.imglib2.type.numeric.real.DoubleType\n",
    "\n",
    "import org.ntakt.*"
   ]
  },
  {
   "cell_type": "code",
   "execution_count": 3,
   "metadata": {},
   "outputs": [],
   "source": [
    "// only do gradient in xy\n",
    "val gradientDimensions = intArrayOf(0, 1)\n",
    "// anisotropic data -> anisotropic cache block size\n",
    "val cacheBlockSize = intArrayOf(32, 32, 3)\n",
    "val threshold = 20.0"
   ]
  },
  {
   "cell_type": "markdown",
   "metadata": {},
   "source": [
    "Download an HDF5 data set with 3D volumetric data, e.g. one of the [CREMI](https://cremi.org/data/) data sets. Update the paths in the next cell accordingly"
   ]
  },
  {
   "cell_type": "code",
   "execution_count": 4,
   "metadata": {},
   "outputs": [],
   "source": [
    "val path = Paths.get(System.getProperty(\"user.home\"), \"Downloads\", \"sample_A_20160501.hdf\")\n",
    "val rawData = ntakt.io.n5.openHDF5<UnsignedByteType>(\"$path\", \"volumes/raw\")\n",
    "val rawDataExtended = rawData.extendBorder().asLongs()"
   ]
  },
  {
   "cell_type": "code",
   "execution_count": 5,
   "metadata": {},
   "outputs": [],
   "source": [
    "fun <T: RealType<T>> partialDerivative(ra: RA<T>, dim: Int): RA<T> {\n",
    "    val offset = Point(3).also { it.setPosition(1L, dim) }\n",
    "    return ((ra + offset) - (ra - offset)) as RA<T> // why is this cast necessary?\n",
    "}\n",
    "\n",
    "fun <T: RealType<T>> magnitude(vararg rais: RAI<T>): RAI<DoubleType> {\n",
    "    return rais\n",
    "        .map { it * it }\n",
    "        .reduce { d1, d2 -> d1 + d2 }\n",
    "        .convert(ntakt.types.double) { s, t -> t.set(sqrt(s.realDouble)) }  \n",
    "}"
   ]
  },
  {
   "cell_type": "code",
   "execution_count": 6,
   "metadata": {},
   "outputs": [],
   "source": [
    "val offsets = gradientDimensions.map { d -> Point(3).also{ p -> p.setPosition(1L, d) } }\n",
    "val firstPartialDerivatives = gradientDimensions.map { partialDerivative(rawDataExtended, it)[rawData].cache() }\n",
    "val firstDerivativeMagnitude = magnitude(*firstPartialDerivatives.toTypedArray()).cache()\n",
    "val thresholded = firstDerivativeMagnitude lt threshold\n",
    "val zeroOrThreshold = thresholded.convert(rawData, UnsignedByteType()) { s1, s2, t ->\n",
    "    t.setReal(if (s1.get()) s2.realDouble else 0.0)\n",
    "}"
   ]
  },
  {
   "cell_type": "code",
   "execution_count": 7,
   "metadata": {},
   "outputs": [
    {
     "data": {
      "text/plain": [
       "bdv.util.BdvStackSource@19648c40"
      ]
     },
     "execution_count": 7,
     "metadata": {},
     "output_type": "execute_result"
    }
   ],
   "source": [
    "val bdv = rawData.volatileView.show(\"raw\").also { it.setDisplayRange(0.0, 255.0) }\n",
    "\n",
    "// set up BDV\n",
    "val vp = bdv.getBdvHandle().viewerPanel\n",
    "vp.state().displayMode = DisplayMode.SINGLE\n",
    "\n",
    "// add derivatives\n",
    "for ((dim, derivative) in gradientDimensions zip firstPartialDerivatives) {\n",
    "    derivative.volatileView\n",
    "        .show(\"first-derivative-$dim\", bdv=bdv)\n",
    "        .setDisplayRange(0.0, 100.0)\n",
    "}\n",
    "firstDerivativeMagnitude.volatileView\n",
    "    .show(\"first-derivative-magnitude\", bdv=bdv)\n",
    "    .setDisplayRange(0.0, 100.0)\n",
    "zeroOrThreshold.cache().volatileView\n",
    "    .show(\"thresholded\", bdv=bdv)"
   ]
  }
 ],
 "metadata": {
  "kernelspec": {
   "display_name": "Kotlin",
   "language": "kotlin",
   "name": "kotlin"
  },
  "language_info": {
   "codemirror_mode": "text/x-kotlin",
   "file_extension": ".kt",
   "mimetype": "text/x-kotlin",
   "name": "kotlin",
   "nbconvert_exporter": "",
   "pygments_lexer": "kotlin",
   "version": "1.7.0-dev-1825"
  }
 },
 "nbformat": 4,
 "nbformat_minor": 4
}
